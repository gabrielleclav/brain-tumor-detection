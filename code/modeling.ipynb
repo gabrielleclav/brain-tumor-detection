{
  "nbformat": 4,
  "nbformat_minor": 5,
  "metadata": {
    "kernelspec": {
      "display_name": "Python 3",
      "language": "python",
      "name": "python3"
    },
    "language_info": {
      "codemirror_mode": {
        "name": "ipython",
        "version": 3
      },
      "file_extension": ".py",
      "mimetype": "text/x-python",
      "name": "python",
      "nbconvert_exporter": "python",
      "pygments_lexer": "ipython3",
      "version": "3.9.7"
    },
    "colab": {
      "name": "Untitled.ipynb",
      "provenance": [],
      "include_colab_link": true
    }
  },
  "cells": [
    {
      "cell_type": "markdown",
      "metadata": {
        "id": "view-in-github",
        "colab_type": "text"
      },
      "source": [
        "<a href=\"https://colab.research.google.com/github/gabrielleclav/brain-tumor-detection/blob/main/code/modeling.ipynb\" target=\"_parent\"><img src=\"https://colab.research.google.com/assets/colab-badge.svg\" alt=\"Open In Colab\"/></a>"
      ]
    },
    {
      "cell_type": "markdown",
      "metadata": {
        "id": "246a3dfd-d013-4fdc-bac2-79b5bb4185ed"
      },
      "source": [
        "# Brain Tumor Detection"
      ],
      "id": "246a3dfd-d013-4fdc-bac2-79b5bb4185ed"
    },
    {
      "cell_type": "code",
      "metadata": {
        "colab": {
          "base_uri": "https://localhost:8080/"
        },
        "id": "MsNEBxA7rH3f",
        "outputId": "0e7b7254-9761-4646-89de-8f01270af56c"
      },
      "source": [
        "from google.colab import drive\n",
        "drive.mount('/content/drive')"
      ],
      "id": "MsNEBxA7rH3f",
      "execution_count": 4,
      "outputs": [
        {
          "output_type": "stream",
          "name": "stdout",
          "text": [
            "Mounted at /content/drive\n"
          ]
        }
      ]
    },
    {
      "cell_type": "markdown",
      "metadata": {
        "id": "bdef3296-9060-4e0f-a70d-4f9c6e2c7762"
      },
      "source": [
        "### Necessary Library Imports "
      ],
      "id": "bdef3296-9060-4e0f-a70d-4f9c6e2c7762"
    },
    {
      "cell_type": "code",
      "metadata": {
        "id": "fe49a19e-4842-472a-8f3b-e06b917e7ce5"
      },
      "source": [
        "import numpy as np\n",
        "import pandas as pd\n",
        "import matplotlib.pyplot as plt\n",
        "import seaborn as sns \n",
        "import os\n",
        "\n",
        "#Tensorflow imports\n",
        "from tensorflow.keras.layers import Dense, Dropout, Flatten, Conv2D, MaxPooling2D\n",
        "from tensorflow.keras.models import Sequential\n",
        "from tensorflow.keras.preprocessing.image import img_to_array, load_img\n",
        "from keras.preprocessing.image import ImageDataGenerator\n",
        "\n",
        "#To test and train dataset for modeling\n",
        "from sklearn.model_selection import train_test_split\n",
        "\n",
        "#Import dataset from google drive \n",
        "from google.colab import drive"
      ],
      "id": "fe49a19e-4842-472a-8f3b-e06b917e7ce5",
      "execution_count": 5,
      "outputs": []
    },
    {
      "cell_type": "code",
      "metadata": {
        "id": "LoVtqshDufcc"
      },
      "source": [
        "# Defining a Function to load in the two datasets -- yes and no datasets \n",
        "def load_datasets(file_path):\n",
        "  '''\n",
        "  This function takes in a file path to the image datasets and reads in the files \n",
        "  using os library and load_img from keras. The function checks to see if it can \n",
        "  read in the image and executes if possible. If not, that file is ignored. \n",
        "  It sizes the image into the target image and append it to the data_array. \n",
        "  input: file path to dataset\n",
        "  output: data array of all the files \n",
        "  '''\n",
        "\n",
        "  data_array = []\n",
        "  for file in os.listdir(file_path):\n",
        "    try:\n",
        "      if file == '.ipynb_checkpoints':\n",
        "        continue #ignore this file\n",
        "      \n",
        "      loading = load_img(file_path + file, target_size = (200, 200))\n",
        "      arr = img_to_array(loading) / 255\n",
        "      data_array.append(arr)\n",
        "    except:\n",
        "      print(f'Error for file: {file}')\n",
        "      \n",
        "  return data_array      \n",
        "\n",
        "def plot_acc(hist, num_epochs):\n",
        "  '''\n",
        "  Plotting the results from the CNN: the training accuracy and the testing \n",
        "  accuracy. \n",
        "  input: hist which are the results from the CNN\n",
        "  output: plotted training vs. testing accuracy graph \n",
        "  '''\n",
        "\n",
        "  plt.plot(hist.history['accuracy'], label='training accuracy', c='blue')\n",
        "  plt.plot(hist.history['val_accuracy'], label='testing accuracy', c='orange')\n",
        "  plt.title('Training Accuracy vs Testing Accuracy')\n",
        "  plt.xticks(\n",
        "            ticks= list(range(0,num_epochs)),\n",
        "            labels=list(range(1, num_epochs + 1))\n",
        ")\n",
        "  plt.xlabel('epoch')\n",
        "  plt.ylabel('accuracy')\n",
        "  plt.legend(['Training', 'Testing'], loc='upper right')\n",
        "  plt.show()\n",
        "\n",
        "      "
      ],
      "id": "LoVtqshDufcc",
      "execution_count": 41,
      "outputs": []
    },
    {
      "cell_type": "code",
      "metadata": {
        "id": "26c1eb68-c301-4a55-abb6-75ccfc760088"
      },
      "source": [
        "# For reproducibility\n",
        "np.random.seed(42)"
      ],
      "id": "26c1eb68-c301-4a55-abb6-75ccfc760088",
      "execution_count": 6,
      "outputs": []
    },
    {
      "cell_type": "markdown",
      "metadata": {
        "id": "3cd5eeb8-7a77-41fd-9ebf-3f1473962deb"
      },
      "source": [
        "### Reading in the Images"
      ],
      "id": "3cd5eeb8-7a77-41fd-9ebf-3f1473962deb"
    },
    {
      "cell_type": "code",
      "metadata": {
        "colab": {
          "base_uri": "https://localhost:8080/"
        },
        "id": "Ws9NHPJysyxe",
        "outputId": "20156a66-9e81-4804-9248-c854dcc41fb2"
      },
      "source": [
        "#looking at the directories for the brain tumor datasets\n",
        "!ls drive/MyDrive/datasets/brain_tumor_dataset/yes/"
      ],
      "id": "Ws9NHPJysyxe",
      "execution_count": 9,
      "outputs": [
        {
          "output_type": "stream",
          "name": "stdout",
          "text": [
            "Y100.JPG  Y12.jpg   Y166.JPG  Y195.JPG\tY254.jpg  Y38.jpg  Y59.JPG  Y82.jpg\n",
            "Y101.jpg  Y13.jpg   Y167.JPG  Y19.JPG\tY255.JPG  Y39.jpg  Y60.jpg  Y85.JPG\n",
            "Y102.jpg  Y146.JPG  Y168.jpg  Y1.jpg\tY256.JPG  Y3.jpg   Y61.jpg  Y86.JPG\n",
            "Y103.jpg  Y147.JPG  Y169.jpg  Y20.jpg\tY257.jpg  Y40.JPG  Y62.jpg  Y89.JPG\n",
            "Y104.jpg  Y148.JPG  Y16.JPG   Y21.jpg\tY258.JPG  Y41.jpg  Y65.JPG  Y8.jpg\n",
            "Y105.jpg  Y14.jpg   Y170.JPG  Y22.jpg\tY259.JPG  Y42.jpg  Y66.JPG  Y90.jpg\n",
            "Y106.jpg  Y153.jpg  Y17.jpg   Y23.JPG\tY25.jpg   Y44.JPG  Y67.JPG  Y91.jpg\n",
            "Y107.jpg  Y154.jpg  Y180.jpg  Y242.JPG\tY26.jpg   Y45.JPG  Y69.jpg  Y92.jpg\n",
            "Y108.jpg  Y155.JPG  Y181.jpg  Y243.JPG\tY27.jpg   Y46.jpg  Y6.jpg   Y92.png\n",
            "Y109.JPG  Y156.JPG  Y182.JPG  Y244.JPG\tY28.jpg   Y47.JPG  Y70.jpg  Y95.jpg\n",
            "Y10.jpg   Y157.JPG  Y183.jpg  Y245.jpg\tY29.jpg   Y49.JPG  Y71.JPG  Y96.jpg\n",
            "Y111.JPG  Y158.JPG  Y184.JPG  Y246.JPG\tY2.jpg\t  Y4.jpg   Y73.jpg  Y97.JPG\n",
            "Y112.JPG  Y159.JPG  Y185.jpg  Y247.JPG\tY30.jpg   Y50.JPG  Y74.jpg  Y98.JPG\n",
            "Y113.JPG  Y15.jpg   Y186.jpg  Y248.JPG\tY31.jpg   Y51.jpg  Y75.JPG  Y99.JPG\n",
            "Y114.JPG  Y160.JPG  Y187.jpg  Y249.JPG\tY32.jpg   Y52.jpg  Y76.jpg  Y9.jpg\n",
            "Y115.JPG  Y161.JPG  Y188.jpg  Y24.jpg\tY33.jpg   Y53.jpg  Y77.jpg\n",
            "Y116.JPG  Y162.jpg  Y18.JPG   Y250.jpg\tY34.jpg   Y54.jpg  Y78.jpg\n",
            "Y117.JPG  Y163.JPG  Y192.JPG  Y251.JPG\tY35.jpg   Y55.jpg  Y79.jpg\n",
            "Y11.jpg   Y164.JPG  Y193.JPG  Y252.jpg\tY36.JPG   Y56.jpg  Y7.jpg\n",
            "Y120.JPG  Y165.JPG  Y194.jpg  Y253.JPG\tY37.jpg   Y58.JPG  Y81.jpg\n"
          ]
        }
      ]
    },
    {
      "cell_type": "code",
      "metadata": {
        "colab": {
          "base_uri": "https://localhost:8080/",
          "height": 235
        },
        "id": "7a2289c4-ebee-4a13-b09c-175fe9357e87",
        "outputId": "dd563a6d-40b1-4f20-b687-9a999a9e3c12"
      },
      "source": [
        "#Checking to see how load_img works!\n",
        "img = load_img('drive/MyDrive/datasets/brain_tumor_dataset/yes/Y1.jpg')\n",
        "img"
      ],
      "id": "7a2289c4-ebee-4a13-b09c-175fe9357e87",
      "execution_count": 10,
      "outputs": [
        {
          "output_type": "execute_result",
          "data": {
            "image/png": "[encoded data removed]",
            "text/plain": [
              "<PIL.JpegImagePlugin.JpegImageFile image mode=RGB size=180x218 at 0x7F023E2B4AD0>"
            ]
          },
          "metadata": {},
          "execution_count": 10
        }
      ]
    },
    {
      "cell_type": "code",
      "metadata": {
        "id": "3Sqnd-ZyxhMA"
      },
      "source": [
        "yes_path = 'drive/MyDrive/datasets/brain_tumor_dataset/yes/'\n",
        "no_path = 'drive/MyDrive/datasets/brain_tumor_dataset/no/'"
      ],
      "id": "3Sqnd-ZyxhMA",
      "execution_count": 18,
      "outputs": []
    },
    {
      "cell_type": "code",
      "metadata": {
        "colab": {
          "base_uri": "https://localhost:8080/"
        },
        "id": "tH3ZNM8rxgZV",
        "outputId": "30e1bbf9-ca93-4e48-eb70-4ddc0eec95d3"
      },
      "source": [
        "yes_arrays = load_datasets(yes_path)\n",
        "len(yes_arrays)"
      ],
      "id": "tH3ZNM8rxgZV",
      "execution_count": 22,
      "outputs": [
        {
          "output_type": "execute_result",
          "data": {
            "text/plain": [
              "155"
            ]
          },
          "metadata": {},
          "execution_count": 22
        }
      ]
    },
    {
      "cell_type": "code",
      "metadata": {
        "colab": {
          "base_uri": "https://localhost:8080/"
        },
        "id": "vJPsT_YKx2U4",
        "outputId": "4acb7d54-7070-4c61-a1c6-9dba60ee839f"
      },
      "source": [
        "no_arrays = load_datasets(no_path)\n",
        "len(no_arrays)"
      ],
      "id": "vJPsT_YKx2U4",
      "execution_count": 23,
      "outputs": [
        {
          "output_type": "execute_result",
          "data": {
            "text/plain": [
              "98"
            ]
          },
          "metadata": {},
          "execution_count": 23
        }
      ]
    },
    {
      "cell_type": "markdown",
      "metadata": {
        "id": "406cb5cc-0899-4f76-a832-a14f75e0532b"
      },
      "source": [
        "### Making X and y Variables "
      ],
      "id": "406cb5cc-0899-4f76-a832-a14f75e0532b"
    },
    {
      "cell_type": "code",
      "metadata": {
        "colab": {
          "base_uri": "https://localhost:8080/"
        },
        "id": "9d030e55-3dcb-4bcd-832e-af9f9cfbe0b5",
        "outputId": "343227bc-6aa4-463f-87ed-4553edf6ef27"
      },
      "source": [
        "#X should contain both yes and no \n",
        "X = yes_arrays + no_arrays\n",
        "X_array = np.array(X)\n",
        "X_array.shape\n",
        "#y containing yes = 1 and no = 0 \n",
        "y = [1] * 155 + [0] * 98\n",
        "y_array = np.array(y)\n",
        "y_array.shape"
      ],
      "id": "9d030e55-3dcb-4bcd-832e-af9f9cfbe0b5",
      "execution_count": 24,
      "outputs": [
        {
          "output_type": "execute_result",
          "data": {
            "text/plain": [
              "(253,)"
            ]
          },
          "metadata": {},
          "execution_count": 24
        }
      ]
    },
    {
      "cell_type": "markdown",
      "metadata": {
        "id": "9853e8e2-2156-454c-9dfc-364d20afba03"
      },
      "source": [
        "### Train-testing Splitting"
      ],
      "id": "9853e8e2-2156-454c-9dfc-364d20afba03"
    },
    {
      "cell_type": "code",
      "metadata": {
        "colab": {
          "base_uri": "https://localhost:8080/"
        },
        "id": "b9f3f077-3c01-42a3-b64e-f9fea7ad28a9",
        "outputId": "b0aa0c6c-7c16-47cc-fd8b-a5c3ec03ab1a"
      },
      "source": [
        "X_train, X_test, y_train, y_test = train_test_split(X_array, y_array, random_state=123, stratify=y_array)\n",
        "#Checking the shapes of each variables from the splitting:\n",
        "X_train.shape, X_train[0].shape"
      ],
      "id": "b9f3f077-3c01-42a3-b64e-f9fea7ad28a9",
      "execution_count": 25,
      "outputs": [
        {
          "output_type": "execute_result",
          "data": {
            "text/plain": [
              "((189, 200, 200, 3), (200, 200, 3))"
            ]
          },
          "metadata": {},
          "execution_count": 25
        }
      ]
    },
    {
      "cell_type": "code",
      "metadata": {
        "colab": {
          "base_uri": "https://localhost:8080/"
        },
        "id": "60caf37e-9148-4f80-be84-cc526920ad36",
        "outputId": "149c4c57-0c1f-4293-9cb2-30ea29774d18"
      },
      "source": [
        "X_test.shape, X_test[0].shape"
      ],
      "id": "60caf37e-9148-4f80-be84-cc526920ad36",
      "execution_count": 26,
      "outputs": [
        {
          "output_type": "execute_result",
          "data": {
            "text/plain": [
              "((64, 200, 200, 3), (200, 200, 3))"
            ]
          },
          "metadata": {},
          "execution_count": 26
        }
      ]
    },
    {
      "cell_type": "code",
      "metadata": {
        "colab": {
          "base_uri": "https://localhost:8080/"
        },
        "id": "f681b073-190b-46c6-ba3b-24c2e2d04d93",
        "outputId": "cd0b5228-2101-40f2-c3d8-840531ab966b"
      },
      "source": [
        "y_train.shape, y_test.shape"
      ],
      "id": "f681b073-190b-46c6-ba3b-24c2e2d04d93",
      "execution_count": 27,
      "outputs": [
        {
          "output_type": "execute_result",
          "data": {
            "text/plain": [
              "((189,), (64,))"
            ]
          },
          "metadata": {},
          "execution_count": 27
        }
      ]
    },
    {
      "cell_type": "markdown",
      "metadata": {
        "id": "543f34cc-97e4-4af8-9761-73ba5561e921"
      },
      "source": [
        "### CNN: Convolutional Neural Networks"
      ],
      "id": "543f34cc-97e4-4af8-9761-73ba5561e921"
    },
    {
      "cell_type": "code",
      "metadata": {
        "id": "4bef50e6-eb03-4e52-a73e-e8e8cde9a675"
      },
      "source": [
        "model = Sequential()\n",
        "\n",
        "#conv + pooling \n",
        "model.add(Conv2D(filters=64,\n",
        "                kernel_size=(4,4),\n",
        "                activation='relu',\n",
        "                input_shape=(X_train[0].shape)\n",
        "                ))\n",
        "model.add(MaxPooling2D(pool_size=(3,3)))\n",
        "\n",
        "#adding another conv and pooling \n",
        "model.add(Conv2D(filters=64, kernel_size=(4,4), activation='relu'))\n",
        "model.add(MaxPooling2D(pool_size=(3,3)))\n",
        "\n",
        "#flatten and dense\n",
        "model.add(Flatten())\n",
        "model.add(Dense(64, activation='relu'))\n",
        "\n",
        "#Output layer\n",
        "model.add(Dense(1, activation='sigmoid'))"
      ],
      "id": "4bef50e6-eb03-4e52-a73e-e8e8cde9a675",
      "execution_count": 28,
      "outputs": []
    },
    {
      "cell_type": "code",
      "metadata": {
        "colab": {
          "base_uri": "https://localhost:8080/"
        },
        "id": "9301f4fa-6177-4be6-a251-7bae4ecbf723",
        "outputId": "7a5fef92-c059-4df8-a4c1-7049db932937"
      },
      "source": [
        "#compile the model\n",
        "model.compile(optimizer='adam',\n",
        "             loss='binary_crossentropy',\n",
        "             metrics=['accuracy'])\n",
        "#Fit the model \n",
        "history = model.fit(X_train, y_train, validation_data=(X_test, y_test),\n",
        "                   batch_size=32,\n",
        "                   epochs=10)"
      ],
      "id": "9301f4fa-6177-4be6-a251-7bae4ecbf723",
      "execution_count": 29,
      "outputs": [
        {
          "output_type": "stream",
          "name": "stdout",
          "text": [
            "Epoch 1/10\n",
            "6/6 [==============================] - 15s 2s/step - loss: 0.6093 - accuracy: 0.6508 - val_loss: 0.5667 - val_accuracy: 0.7188\n",
            "Epoch 2/10\n",
            "6/6 [==============================] - 14s 2s/step - loss: 0.4917 - accuracy: 0.8201 - val_loss: 0.6381 - val_accuracy: 0.6094\n",
            "Epoch 3/10\n",
            "6/6 [==============================] - 14s 2s/step - loss: 0.4428 - accuracy: 0.7937 - val_loss: 0.5371 - val_accuracy: 0.7969\n",
            "Epoch 4/10\n",
            "6/6 [==============================] - 14s 2s/step - loss: 0.3745 - accuracy: 0.8413 - val_loss: 0.5310 - val_accuracy: 0.7500\n",
            "Epoch 5/10\n",
            "6/6 [==============================] - 14s 2s/step - loss: 0.2941 - accuracy: 0.8730 - val_loss: 0.5735 - val_accuracy: 0.8281\n",
            "Epoch 6/10\n",
            "6/6 [==============================] - 14s 2s/step - loss: 0.2603 - accuracy: 0.9101 - val_loss: 0.6020 - val_accuracy: 0.8438\n",
            "Epoch 7/10\n",
            "6/6 [==============================] - 14s 2s/step - loss: 0.1979 - accuracy: 0.9259 - val_loss: 0.6411 - val_accuracy: 0.8438\n",
            "Epoch 8/10\n",
            "6/6 [==============================] - 14s 2s/step - loss: 0.1096 - accuracy: 0.9524 - val_loss: 0.7861 - val_accuracy: 0.8125\n",
            "Epoch 9/10\n",
            "6/6 [==============================] - 14s 2s/step - loss: 0.1022 - accuracy: 0.9683 - val_loss: 0.5560 - val_accuracy: 0.7656\n",
            "Epoch 10/10\n",
            "6/6 [==============================] - 14s 2s/step - loss: 0.0873 - accuracy: 0.9735 - val_loss: 0.6763 - val_accuracy: 0.8594\n"
          ]
        }
      ]
    },
    {
      "cell_type": "code",
      "metadata": {
        "colab": {
          "base_uri": "https://localhost:8080/"
        },
        "id": "7f35a606-6c53-4875-8e2d-e45e28035594",
        "outputId": "1d522bab-fb72-4c31-82c7-a76d7d62cb78"
      },
      "source": [
        "model.summary()"
      ],
      "id": "7f35a606-6c53-4875-8e2d-e45e28035594",
      "execution_count": 30,
      "outputs": [
        {
          "output_type": "stream",
          "name": "stdout",
          "text": [
            "Model: \"sequential\"\n",
            "_________________________________________________________________\n",
            " Layer (type)                Output Shape              Param #   \n",
            "=================================================================\n",
            " conv2d (Conv2D)             (None, 197, 197, 64)      3136      \n",
            "                                                                 \n",
            " max_pooling2d (MaxPooling2D  (None, 65, 65, 64)       0         \n",
            " )                                                               \n",
            "                                                                 \n",
            " conv2d_1 (Conv2D)           (None, 62, 62, 64)        65600     \n",
            "                                                                 \n",
            " max_pooling2d_1 (MaxPooling  (None, 20, 20, 64)       0         \n",
            " 2D)                                                             \n",
            "                                                                 \n",
            " flatten (Flatten)           (None, 25600)             0         \n",
            "                                                                 \n",
            " dense (Dense)               (None, 64)                1638464   \n",
            "                                                                 \n",
            " dense_1 (Dense)             (None, 1)                 65        \n",
            "                                                                 \n",
            "=================================================================\n",
            "Total params: 1,707,265\n",
            "Trainable params: 1,707,265\n",
            "Non-trainable params: 0\n",
            "_________________________________________________________________\n"
          ]
        }
      ]
    },
    {
      "cell_type": "code",
      "metadata": {
        "colab": {
          "base_uri": "https://localhost:8080/",
          "height": 295
        },
        "id": "a61e75e7-4ccf-42f1-a5f0-0946492a1eac",
        "outputId": "b0c4f7d5-7961-4463-d998-abd53237a57f"
      },
      "source": [
        "plot_acc(history, 10)"
      ],
      "id": "a61e75e7-4ccf-42f1-a5f0-0946492a1eac",
      "execution_count": 43,
      "outputs": [
        {
          "output_type": "display_data",
          "data": {
            "image/png": "[encoded data removed]",
            "text/plain": [
              "<Figure size 432x288 with 1 Axes>"
            ]
          },
          "metadata": {
            "needs_background": "light"
          }
        }
      ]
    },
    {
      "cell_type": "code",
      "metadata": {
        "id": "IFfJBoUMy0z3"
      },
      "source": [
        ""
      ],
      "id": "IFfJBoUMy0z3",
      "execution_count": null,
      "outputs": []
    }
  ]
}