{
  "nbformat": 4,
  "nbformat_minor": 5,
  "metadata": {
    "kernelspec": {
      "display_name": "Python 3",
      "language": "python",
      "name": "python3"
    },
    "language_info": {
      "codemirror_mode": {
        "name": "ipython",
        "version": 3
      },
      "file_extension": ".py",
      "mimetype": "text/x-python",
      "name": "python",
      "nbconvert_exporter": "python",
      "pygments_lexer": "ipython3",
      "version": "3.9.7"
    },
    "colab": {
      "name": "Untitled.ipynb",
      "provenance": [],
      "include_colab_link": true
    }
  },
  "cells": [
    {
      "cell_type": "markdown",
      "metadata": {
        "id": "view-in-github",
        "colab_type": "text"
      },
      "source": [
        "<a href=\"https://colab.research.google.com/github/gabrielleclav/brain-tumor-detection/blob/main/code/modeling.ipynb\" target=\"_parent\"><img src=\"https://colab.research.google.com/assets/colab-badge.svg\" alt=\"Open In Colab\"/></a>"
      ]
    },
    {
      "cell_type": "markdown",
      "metadata": {
        "id": "246a3dfd-d013-4fdc-bac2-79b5bb4185ed"
      },
      "source": [
        "# Brain Tumor Detection"
      ],
      "id": "246a3dfd-d013-4fdc-bac2-79b5bb4185ed"
    },
    {
      "cell_type": "code",
      "metadata": {
        "colab": {
          "base_uri": "https://localhost:8080/"
        },
        "id": "MsNEBxA7rH3f",
        "outputId": "0db1d1fd-0b82-402f-bd5b-7c5fad03c909"
      },
      "source": [
        "from google.colab import drive\n",
        "drive.mount('/content/drive')"
      ],
      "id": "MsNEBxA7rH3f",
      "execution_count": 1,
      "outputs": [
        {
          "output_type": "stream",
          "name": "stdout",
          "text": [
            "Mounted at /content/drive\n"
          ]
        }
      ]
    },
    {
      "cell_type": "markdown",
      "metadata": {
        "id": "bdef3296-9060-4e0f-a70d-4f9c6e2c7762"
      },
      "source": [
        "### Necessary Library Imports "
      ],
      "id": "bdef3296-9060-4e0f-a70d-4f9c6e2c7762"
    },
    {
      "cell_type": "code",
      "metadata": {
        "id": "fe49a19e-4842-472a-8f3b-e06b917e7ce5"
      },
      "source": [
        "import numpy as np\n",
        "import pandas as pd\n",
        "import matplotlib.pyplot as plt\n",
        "import seaborn as sns \n",
        "import os\n",
        "\n",
        "#Tensorflow imports\n",
        "from tensorflow.keras.layers import Dense, Dropout, Flatten, Conv2D, MaxPooling2D\n",
        "from tensorflow.keras.models import Sequential\n",
        "from tensorflow.keras.preprocessing.image import img_to_array, load_img\n",
        "from keras.preprocessing.image import ImageDataGenerator\n",
        "\n",
        "#To test and train dataset for modeling\n",
        "from sklearn.model_selection import train_test_split\n",
        "\n",
        "#Import dataset from google drive \n",
        "from google.colab import drive"
      ],
      "id": "fe49a19e-4842-472a-8f3b-e06b917e7ce5",
      "execution_count": 2,
      "outputs": []
    },
    {
      "cell_type": "code",
      "metadata": {
        "id": "LoVtqshDufcc"
      },
      "source": [
        "# Defining a Function to load in the two datasets -- yes and no datasets \n",
        "def load_datasets(file_path):\n",
        "  '''\n",
        "  This function takes in a file path to the image datasets and reads in the files \n",
        "  using os library and load_img from keras. The function checks to see if it can \n",
        "  read in the image and executes if possible. If not, that file is ignored. \n",
        "  It sizes the image into the target image and append it to the data_array. \n",
        "  input: file path to dataset\n",
        "  output: data array of all the files \n",
        "  '''\n",
        "\n",
        "  data_array = []\n",
        "  for file in os.listdir(file_path):\n",
        "    try:\n",
        "      if file == '.ipynb_checkpoints':\n",
        "        continue #ignore this file\n",
        "      \n",
        "      loading = load_img(file_path + file, target_size = (200, 200))\n",
        "      arr = img_to_array(loading) / 255\n",
        "      data_array.append(arr)\n",
        "    except:\n",
        "      print(f'Error for file: {file}')\n",
        "      \n",
        "  return data_array      \n",
        "\n",
        "def plot_acc(hist, num_epochs):\n",
        "  '''\n",
        "  Plotting the results from the CNN: the training accuracy and the testing \n",
        "  accuracy. \n",
        "  input: hist which are the results from the CNN\n",
        "  output: plotted training vs. testing accuracy graph \n",
        "  '''\n",
        "\n",
        "  plt.plot(hist.history['accuracy'], label='training accuracy', c='blue')\n",
        "  plt.plot(hist.history['val_accuracy'], label='testing accuracy', c='orange')\n",
        "  plt.title('Training Accuracy vs Testing Accuracy')\n",
        "  plt.xticks(\n",
        "            ticks= list(range(0,num_epochs)),\n",
        "            labels=list(range(1, num_epochs + 1))\n",
        ")\n",
        "  plt.xlabel('epoch')\n",
        "  plt.ylabel('accuracy')\n",
        "  plt.legend(['Training', 'Testing'], loc='upper right')\n",
        "  plt.show()\n",
        "\n",
        "def cnn_basic(filt=64, kern_size = (4,4), pool_s = (3,3), dense_filt=64):\n",
        "  '''\n",
        "  This function is taking parameters to build a CNN model, builds the model,\n",
        "  and returns the model. \n",
        "  '''\n",
        "  model = Sequential()\n",
        "\n",
        "  #conv + pooling \n",
        "  model.add(Conv2D(filters=filt,\n",
        "                   kernel_size= kern_size,\n",
        "                   activation='relu',\n",
        "                   input_shape=(X_train[0].shape)\n",
        "                   ))\n",
        "  model.add(MaxPooling2D(pool_size= pool_s))\n",
        "\n",
        "  #adding another conv and pooling \n",
        "  model.add(Conv2D(filters=64, kernel_size=kern_size, activation='relu'))\n",
        "  model.add(MaxPooling2D(pool_size=pool_s))\n",
        "\n",
        "  #flatten and dense\n",
        "  model.add(Flatten())\n",
        "  model.add(Dense(dense_filt, activation='relu'))\n",
        "\n",
        "  #Output layer\n",
        "  model.add(Dense(1, activation='sigmoid'))\n",
        "\n",
        "  #compile the model\n",
        "  model.compile(optimizer='adam',\n",
        "             loss='binary_crossentropy',\n",
        "             metrics=['accuracy'])\n",
        "  return model \n",
        "\n",
        "def fit_model(mod, ep = 10, batch = 32):\n",
        "  '''\n",
        "  This function takes the model, epochs, batch size and fits the model. \n",
        "  It then returns the history from the model fit. \n",
        "  '''\n",
        "\n",
        "  history = mod.fit(X_train, y_train, validation_data=(X_test, y_test),\n",
        "                   batch_size=32,\n",
        "                   epochs=10)\n",
        "  return history \n",
        "      "
      ],
      "id": "LoVtqshDufcc",
      "execution_count": 17,
      "outputs": []
    },
    {
      "cell_type": "code",
      "metadata": {
        "id": "26c1eb68-c301-4a55-abb6-75ccfc760088"
      },
      "source": [
        "# For reproducibility\n",
        "np.random.seed(42)"
      ],
      "id": "26c1eb68-c301-4a55-abb6-75ccfc760088",
      "execution_count": 4,
      "outputs": []
    },
    {
      "cell_type": "markdown",
      "metadata": {
        "id": "3cd5eeb8-7a77-41fd-9ebf-3f1473962deb"
      },
      "source": [
        "### Reading in the Images"
      ],
      "id": "3cd5eeb8-7a77-41fd-9ebf-3f1473962deb"
    },
    {
      "cell_type": "code",
      "metadata": {
        "colab": {
          "base_uri": "https://localhost:8080/"
        },
        "id": "Ws9NHPJysyxe",
        "outputId": "665498da-0a69-46a8-e30b-3b49dc5e49d2"
      },
      "source": [
        "#looking at the directories for the brain tumor datasets\n",
        "!ls drive/MyDrive/datasets/brain_tumor_dataset/yes/"
      ],
      "id": "Ws9NHPJysyxe",
      "execution_count": 5,
      "outputs": [
        {
          "output_type": "stream",
          "name": "stdout",
          "text": [
            "Y100.JPG  Y12.jpg   Y166.JPG  Y195.JPG\tY254.jpg  Y38.jpg  Y59.JPG  Y82.jpg\n",
            "Y101.jpg  Y13.jpg   Y167.JPG  Y19.JPG\tY255.JPG  Y39.jpg  Y60.jpg  Y85.JPG\n",
            "Y102.jpg  Y146.JPG  Y168.jpg  Y1.jpg\tY256.JPG  Y3.jpg   Y61.jpg  Y86.JPG\n",
            "Y103.jpg  Y147.JPG  Y169.jpg  Y20.jpg\tY257.jpg  Y40.JPG  Y62.jpg  Y89.JPG\n",
            "Y104.jpg  Y148.JPG  Y16.JPG   Y21.jpg\tY258.JPG  Y41.jpg  Y65.JPG  Y8.jpg\n",
            "Y105.jpg  Y14.jpg   Y170.JPG  Y22.jpg\tY259.JPG  Y42.jpg  Y66.JPG  Y90.jpg\n",
            "Y106.jpg  Y153.jpg  Y17.jpg   Y23.JPG\tY25.jpg   Y44.JPG  Y67.JPG  Y91.jpg\n",
            "Y107.jpg  Y154.jpg  Y180.jpg  Y242.JPG\tY26.jpg   Y45.JPG  Y69.jpg  Y92.jpg\n",
            "Y108.jpg  Y155.JPG  Y181.jpg  Y243.JPG\tY27.jpg   Y46.jpg  Y6.jpg   Y92.png\n",
            "Y109.JPG  Y156.JPG  Y182.JPG  Y244.JPG\tY28.jpg   Y47.JPG  Y70.jpg  Y95.jpg\n",
            "Y10.jpg   Y157.JPG  Y183.jpg  Y245.jpg\tY29.jpg   Y49.JPG  Y71.JPG  Y96.jpg\n",
            "Y111.JPG  Y158.JPG  Y184.JPG  Y246.JPG\tY2.jpg\t  Y4.jpg   Y73.jpg  Y97.JPG\n",
            "Y112.JPG  Y159.JPG  Y185.jpg  Y247.JPG\tY30.jpg   Y50.JPG  Y74.jpg  Y98.JPG\n",
            "Y113.JPG  Y15.jpg   Y186.jpg  Y248.JPG\tY31.jpg   Y51.jpg  Y75.JPG  Y99.JPG\n",
            "Y114.JPG  Y160.JPG  Y187.jpg  Y249.JPG\tY32.jpg   Y52.jpg  Y76.jpg  Y9.jpg\n",
            "Y115.JPG  Y161.JPG  Y188.jpg  Y24.jpg\tY33.jpg   Y53.jpg  Y77.jpg\n",
            "Y116.JPG  Y162.jpg  Y18.JPG   Y250.jpg\tY34.jpg   Y54.jpg  Y78.jpg\n",
            "Y117.JPG  Y163.JPG  Y192.JPG  Y251.JPG\tY35.jpg   Y55.jpg  Y79.jpg\n",
            "Y11.jpg   Y164.JPG  Y193.JPG  Y252.jpg\tY36.JPG   Y56.jpg  Y7.jpg\n",
            "Y120.JPG  Y165.JPG  Y194.jpg  Y253.JPG\tY37.jpg   Y58.JPG  Y81.jpg\n"
          ]
        }
      ]
    },
    {
      "cell_type": "code",
      "metadata": {
        "colab": {
          "base_uri": "https://localhost:8080/",
          "height": 235
        },
        "id": "7a2289c4-ebee-4a13-b09c-175fe9357e87",
        "outputId": "0845c2a9-22c9-4212-9251-ceeaf8302c70"
      },
      "source": [
        "#Checking to see how load_img works!\n",
        "img = load_img('drive/MyDrive/datasets/brain_tumor_dataset/yes/Y1.jpg')\n",
        "img"
      ],
      "id": "7a2289c4-ebee-4a13-b09c-175fe9357e87",
      "execution_count": 6,
      "outputs": [
        {
          "output_type": "execute_result",
          "data": {
            "image/png": "[encoded data removed]",
            "text/plain": [
              "<PIL.JpegImagePlugin.JpegImageFile image mode=RGB size=180x218 at 0x7F8F243CF8D0>"
            ]
          },
          "metadata": {},
          "execution_count": 6
        }
      ]
    },
    {
      "cell_type": "code",
      "metadata": {
        "id": "3Sqnd-ZyxhMA"
      },
      "source": [
        "yes_path = 'drive/MyDrive/datasets/brain_tumor_dataset/yes/'\n",
        "no_path = 'drive/MyDrive/datasets/brain_tumor_dataset/no/'"
      ],
      "id": "3Sqnd-ZyxhMA",
      "execution_count": 7,
      "outputs": []
    },
    {
      "cell_type": "code",
      "metadata": {
        "colab": {
          "base_uri": "https://localhost:8080/"
        },
        "id": "tH3ZNM8rxgZV",
        "outputId": "8f49e2ce-1228-4282-8959-f8d7654aef76"
      },
      "source": [
        "yes_arrays = load_datasets(yes_path)\n",
        "len(yes_arrays)"
      ],
      "id": "tH3ZNM8rxgZV",
      "execution_count": 8,
      "outputs": [
        {
          "output_type": "execute_result",
          "data": {
            "text/plain": [
              "155"
            ]
          },
          "metadata": {},
          "execution_count": 8
        }
      ]
    },
    {
      "cell_type": "code",
      "metadata": {
        "colab": {
          "base_uri": "https://localhost:8080/"
        },
        "id": "vJPsT_YKx2U4",
        "outputId": "02c52e6c-2722-4d12-c259-5f2119e70609"
      },
      "source": [
        "no_arrays = load_datasets(no_path)\n",
        "len(no_arrays)"
      ],
      "id": "vJPsT_YKx2U4",
      "execution_count": 10,
      "outputs": [
        {
          "output_type": "execute_result",
          "data": {
            "text/plain": [
              "98"
            ]
          },
          "metadata": {},
          "execution_count": 10
        }
      ]
    },
    {
      "cell_type": "markdown",
      "metadata": {
        "id": "406cb5cc-0899-4f76-a832-a14f75e0532b"
      },
      "source": [
        "### Making X and y Variables "
      ],
      "id": "406cb5cc-0899-4f76-a832-a14f75e0532b"
    },
    {
      "cell_type": "code",
      "metadata": {
        "colab": {
          "base_uri": "https://localhost:8080/"
        },
        "id": "9d030e55-3dcb-4bcd-832e-af9f9cfbe0b5",
        "outputId": "341b8927-7f73-4b1b-fd8b-6777d86f66bf"
      },
      "source": [
        "#X should contain both yes and no \n",
        "X = yes_arrays + no_arrays\n",
        "X_array = np.array(X)\n",
        "X_array.shape\n",
        "#y containing yes = 1 and no = 0 \n",
        "y = [1] * 155 + [0] * 98\n",
        "y_array = np.array(y)\n",
        "y_array.shape"
      ],
      "id": "9d030e55-3dcb-4bcd-832e-af9f9cfbe0b5",
      "execution_count": 11,
      "outputs": [
        {
          "output_type": "execute_result",
          "data": {
            "text/plain": [
              "(253,)"
            ]
          },
          "metadata": {},
          "execution_count": 11
        }
      ]
    },
    {
      "cell_type": "markdown",
      "metadata": {
        "id": "9853e8e2-2156-454c-9dfc-364d20afba03"
      },
      "source": [
        "### Train-testing Splitting"
      ],
      "id": "9853e8e2-2156-454c-9dfc-364d20afba03"
    },
    {
      "cell_type": "code",
      "metadata": {
        "colab": {
          "base_uri": "https://localhost:8080/"
        },
        "id": "b9f3f077-3c01-42a3-b64e-f9fea7ad28a9",
        "outputId": "fa85ab8c-5fc6-4594-beec-68cae0a10954"
      },
      "source": [
        "X_train, X_test, y_train, y_test = train_test_split(X_array, y_array, random_state=123, stratify=y_array)\n",
        "#Checking the shapes of each variables from the splitting:\n",
        "X_train.shape, X_train[0].shape"
      ],
      "id": "b9f3f077-3c01-42a3-b64e-f9fea7ad28a9",
      "execution_count": 12,
      "outputs": [
        {
          "output_type": "execute_result",
          "data": {
            "text/plain": [
              "((189, 200, 200, 3), (200, 200, 3))"
            ]
          },
          "metadata": {},
          "execution_count": 12
        }
      ]
    },
    {
      "cell_type": "code",
      "metadata": {
        "colab": {
          "base_uri": "https://localhost:8080/"
        },
        "id": "60caf37e-9148-4f80-be84-cc526920ad36",
        "outputId": "097c7b5e-e429-4715-8907-195dd0aeb721"
      },
      "source": [
        "X_test.shape, X_test[0].shape"
      ],
      "id": "60caf37e-9148-4f80-be84-cc526920ad36",
      "execution_count": 13,
      "outputs": [
        {
          "output_type": "execute_result",
          "data": {
            "text/plain": [
              "((64, 200, 200, 3), (200, 200, 3))"
            ]
          },
          "metadata": {},
          "execution_count": 13
        }
      ]
    },
    {
      "cell_type": "code",
      "metadata": {
        "colab": {
          "base_uri": "https://localhost:8080/"
        },
        "id": "f681b073-190b-46c6-ba3b-24c2e2d04d93",
        "outputId": "47759e96-fc64-4738-bf83-2d951117c439"
      },
      "source": [
        "y_train.shape, y_test.shape"
      ],
      "id": "f681b073-190b-46c6-ba3b-24c2e2d04d93",
      "execution_count": 14,
      "outputs": [
        {
          "output_type": "execute_result",
          "data": {
            "text/plain": [
              "((189,), (64,))"
            ]
          },
          "metadata": {},
          "execution_count": 14
        }
      ]
    },
    {
      "cell_type": "markdown",
      "metadata": {
        "id": "543f34cc-97e4-4af8-9761-73ba5561e921"
      },
      "source": [
        "### CNN: Convolutional Neural Networks"
      ],
      "id": "543f34cc-97e4-4af8-9761-73ba5561e921"
    },
    {
      "cell_type": "code",
      "metadata": {
        "id": "ZWdEjCFm4ugF"
      },
      "source": [
        "#Using the default parameters from the function so \n",
        "#filters=64, kernel_size=(4,4), pool_size=(3,3), denser filter = 64\n",
        "mod_1 = cnn_basic()"
      ],
      "id": "ZWdEjCFm4ugF",
      "execution_count": 15,
      "outputs": []
    },
    {
      "cell_type": "code",
      "metadata": {
        "id": "qwdqbC6w6gXm",
        "outputId": "af949089-8489-47a7-8c46-7995484e1000",
        "colab": {
          "base_uri": "https://localhost:8080/"
        }
      },
      "source": [
        "history_1 = fit_model(mod_1) #using default epoch and batch size "
      ],
      "id": "qwdqbC6w6gXm",
      "execution_count": 18,
      "outputs": [
        {
          "output_type": "stream",
          "name": "stdout",
          "text": [
            "Epoch 1/10\n",
            "6/6 [==============================] - 15s 2s/step - loss: 1.2843 - accuracy: 0.4762 - val_loss: 0.6852 - val_accuracy: 0.5781\n",
            "Epoch 2/10\n",
            "6/6 [==============================] - 14s 2s/step - loss: 0.6089 - accuracy: 0.7460 - val_loss: 0.6303 - val_accuracy: 0.6719\n",
            "Epoch 3/10\n",
            "6/6 [==============================] - 13s 2s/step - loss: 0.5012 - accuracy: 0.7937 - val_loss: 0.7089 - val_accuracy: 0.6406\n",
            "Epoch 4/10\n",
            "6/6 [==============================] - 13s 2s/step - loss: 0.4894 - accuracy: 0.7937 - val_loss: 0.5767 - val_accuracy: 0.7344\n",
            "Epoch 5/10\n",
            "6/6 [==============================] - 13s 2s/step - loss: 0.4459 - accuracy: 0.8095 - val_loss: 0.5528 - val_accuracy: 0.7344\n",
            "Epoch 6/10\n",
            "6/6 [==============================] - 13s 2s/step - loss: 0.4174 - accuracy: 0.8254 - val_loss: 0.5395 - val_accuracy: 0.7500\n",
            "Epoch 7/10\n",
            "6/6 [==============================] - 13s 2s/step - loss: 0.3739 - accuracy: 0.8413 - val_loss: 0.5771 - val_accuracy: 0.8281\n",
            "Epoch 8/10\n",
            "6/6 [==============================] - 13s 2s/step - loss: 0.2966 - accuracy: 0.8677 - val_loss: 0.5184 - val_accuracy: 0.7344\n",
            "Epoch 9/10\n",
            "6/6 [==============================] - 13s 2s/step - loss: 0.2318 - accuracy: 0.9153 - val_loss: 0.5610 - val_accuracy: 0.7656\n",
            "Epoch 10/10\n",
            "6/6 [==============================] - 13s 2s/step - loss: 0.1885 - accuracy: 0.9312 - val_loss: 0.6485 - val_accuracy: 0.6875\n"
          ]
        }
      ]
    },
    {
      "cell_type": "code",
      "metadata": {
        "id": "ZVPenXym8mtj",
        "outputId": "78e6c899-af5f-4833-f6db-ba535f73de8f",
        "colab": {
          "base_uri": "https://localhost:8080/"
        }
      },
      "source": [
        "mod_1.summary()"
      ],
      "id": "ZVPenXym8mtj",
      "execution_count": 19,
      "outputs": [
        {
          "output_type": "stream",
          "name": "stdout",
          "text": [
            "Model: \"sequential\"\n",
            "_________________________________________________________________\n",
            " Layer (type)                Output Shape              Param #   \n",
            "=================================================================\n",
            " conv2d (Conv2D)             (None, 197, 197, 64)      3136      \n",
            "                                                                 \n",
            " max_pooling2d (MaxPooling2D  (None, 65, 65, 64)       0         \n",
            " )                                                               \n",
            "                                                                 \n",
            " conv2d_1 (Conv2D)           (None, 62, 62, 64)        65600     \n",
            "                                                                 \n",
            " max_pooling2d_1 (MaxPooling  (None, 20, 20, 64)       0         \n",
            " 2D)                                                             \n",
            "                                                                 \n",
            " flatten (Flatten)           (None, 25600)             0         \n",
            "                                                                 \n",
            " dense (Dense)               (None, 64)                1638464   \n",
            "                                                                 \n",
            " dense_1 (Dense)             (None, 1)                 65        \n",
            "                                                                 \n",
            "=================================================================\n",
            "Total params: 1,707,265\n",
            "Trainable params: 1,707,265\n",
            "Non-trainable params: 0\n",
            "_________________________________________________________________\n"
          ]
        }
      ]
    },
    {
      "cell_type": "code",
      "metadata": {
        "id": "k47l9YeK8qZ_",
        "outputId": "022c9743-8be1-42dd-cd65-e74f01087a20",
        "colab": {
          "base_uri": "https://localhost:8080/",
          "height": 295
        }
      },
      "source": [
        "plot_acc(history_1, 10)"
      ],
      "id": "k47l9YeK8qZ_",
      "execution_count": 20,
      "outputs": [
        {
          "output_type": "display_data",
          "data": {
            "image/png": "[encoded data removed]",
            "text/plain": [
              "<Figure size 432x288 with 1 Axes>"
            ]
          },
          "metadata": {
            "needs_background": "light"
          }
        }
      ]
    },
    {
      "cell_type": "code",
      "metadata": {
        "id": "IFfJBoUMy0z3"
      },
      "source": [
        ""
      ],
      "id": "IFfJBoUMy0z3",
      "execution_count": null,
      "outputs": []
    }
  ]
}